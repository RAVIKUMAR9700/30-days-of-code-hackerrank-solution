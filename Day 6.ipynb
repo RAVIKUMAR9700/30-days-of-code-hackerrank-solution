{
 "cells": [
  {
   "cell_type": "code",
   "execution_count": 5,
   "metadata": {},
   "outputs": [
    {
     "name": "stdout",
     "output_type": "stream",
     "text": [
      "2\n",
      "hacker\n",
      "hce akr\n",
      "rank\n",
      "rn ak\n"
     ]
    }
   ],
   "source": [
    "# Enter your code here. Read input from STDIN. Print output to STDOUT\n",
    "n=int(input())\n",
    "\n",
    "\n",
    "for i in range(n):\n",
    "    st=input()\n",
    "    ab=[]\n",
    "    bc=[]\n",
    "    for j in range(len(st)):\n",
    "        \n",
    "        if j%2==0:\n",
    "            ab.append(st[j])\n",
    "            \n",
    "            a=''.join(ab)\n",
    "        \n",
    "        else:\n",
    "            bc.append(st[j])\n",
    "            b=''.join(bc)\n",
    "    print(a,b)\n",
    "            "
   ]
  },
  {
   "cell_type": "code",
   "execution_count": null,
   "metadata": {},
   "outputs": [],
   "source": []
  }
 ],
 "metadata": {
  "kernelspec": {
   "display_name": "Python 3",
   "language": "python",
   "name": "python3"
  },
  "language_info": {
   "codemirror_mode": {
    "name": "ipython",
    "version": 3
   },
   "file_extension": ".py",
   "mimetype": "text/x-python",
   "name": "python",
   "nbconvert_exporter": "python",
   "pygments_lexer": "ipython3",
   "version": "3.8.5"
  }
 },
 "nbformat": 4,
 "nbformat_minor": 4
}
